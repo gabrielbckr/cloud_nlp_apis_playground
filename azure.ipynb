{
 "cells": [
  {
   "cell_type": "code",
   "execution_count": 1,
   "metadata": {},
   "outputs": [],
   "source": [
    "import os\n",
    "from azure.core.credentials import AzureKeyCredential\n",
    "from azure.ai.textanalytics import TextAnalyticsClient"
   ]
  },
  {
   "cell_type": "markdown",
   "metadata": {},
   "source": [
    "# Setup SDK connection"
   ]
  },
  {
   "cell_type": "code",
   "execution_count": 2,
   "metadata": {
    "collapsed": false,
    "jupyter": {
     "outputs_hidden": false
    },
    "pycharm": {
     "name": "#%%\n"
    }
   },
   "outputs": [],
   "source": [
    "endpoint = os.environ[\"AZURE_TEXT_ANALYTICS_ENDPOINT\"]\n",
    "key = os.environ[\"AZURE_TEXT_ANALYTICS_KEY\"]\n",
    "\n",
    "azclient = TextAnalyticsClient(endpoint, AzureKeyCredential(key))\n"
   ]
  },
  {
   "cell_type": "markdown",
   "metadata": {
    "pycharm": {
     "name": "#%% md\n"
    }
   },
   "source": [
    "# Setup Test Texts"
   ]
  },
  {
   "cell_type": "code",
   "execution_count": 3,
   "metadata": {
    "collapsed": false,
    "jupyter": {
     "outputs_hidden": false
    },
    "pycharm": {
     "name": "#%%\n"
    }
   },
   "outputs": [],
   "source": [
    "docs = [\n",
    "    'A Guilda da DTI promove o melhor encontro da semana. Todos os membros são supimpa',\n",
    "    'Sem a menor mudança de voz, Ireneo disse-me o que se passara. Estava na cama, funmando. Parece-me que não vi o seu rosto até a aurora; creio lembrar-me da brasa momentânea do cigarro. O quarto exalava um vago odor de umidade. Sentei-me, repeti a história do telegrama e da enfermidade de meu pai.'\n",
    "]\n"
   ]
  },
  {
   "cell_type": "markdown",
   "metadata": {},
   "source": [
    "# Named Entity Extraction"
   ]
  },
  {
   "cell_type": "code",
   "execution_count": 4,
   "metadata": {
    "collapsed": false,
    "jupyter": {
     "outputs_hidden": false
    },
    "pycharm": {
     "name": "#%%\n"
    }
   },
   "outputs": [],
   "source": [
    "def print_docs_entities(docs):\n",
    "    result = azclient.recognize_entities(\n",
    "        docs\n",
    "    )\n",
    "    for res, text in zip(result, docs):\n",
    "        print(f'Text: {text}')\n",
    "        for entity in res['entities']:\n",
    "            print(f'\\t {entity[\"text\"]} -> '\n",
    "                  f'category: {entity[\"category\"]} '\n",
    "                  f'| score: {entity[\"confidence_score\"]}')"
   ]
  },
  {
   "cell_type": "code",
   "execution_count": 10,
   "metadata": {
    "collapsed": false,
    "jupyter": {
     "outputs_hidden": false
    },
    "pycharm": {
     "name": "#%%\n"
    }
   },
   "outputs": [
    {
     "name": "stdout",
     "output_type": "stream",
     "text": [
      "Text: Sem a menor mudança de voz, Ireneo disse-me o que se passara. Estava na cama, funmando. Parece-me que não vi o seu rosto até a aurora; creio lembrar-me da brasa momentânea do cigarro. O quarto exalava um vago odor de umidade. Sentei-me, repeti a história do telegrama e da enfermidade de meu pai.\n",
      "\t Ireneo -> category: Person | score: 0.98\n",
      "\t cigarro -> category: Product | score: 0.85\n",
      "\t quarto -> category: Location | score: 0.5\n",
      "\t um -> category: Quantity | score: 0.8\n",
      "\t pai -> category: PersonType | score: 0.84\n"
     ]
    }
   ],
   "source": [
    "print_docs_entities([\n",
    "    'Sem a menor mudança de voz, Ireneo disse-me o que se passara. Estava na cama, funmando. Parece-me que não vi o seu rosto até a aurora; creio lembrar-me da brasa momentânea do cigarro. O quarto exalava um vago odor de umidade. Sentei-me, repeti a história do telegrama e da enfermidade de meu pai.'\n",
    "])"
   ]
  },
  {
   "cell_type": "code",
   "execution_count": null,
   "outputs": [],
   "source": [
    "result = azclient.recognize_entities(\n",
    "        docs\n",
    "    )\n",
    "result[0]"
   ],
   "metadata": {
    "collapsed": false,
    "pycharm": {
     "name": "#%%\n"
    }
   }
  },
  {
   "cell_type": "code",
   "execution_count": 14,
   "metadata": {
    "collapsed": false,
    "jupyter": {
     "outputs_hidden": false
    },
    "pycharm": {
     "name": "#%%\n"
    }
   },
   "outputs": [
    {
     "data": {
      "text/plain": [
       "[CategorizedEntity(text=Ireneo, category=Person, subcategory=None, confidence_score=0.98),\n",
       " CategorizedEntity(text=cigarro, category=Product, subcategory=None, confidence_score=0.85),\n",
       " CategorizedEntity(text=quarto, category=Location, subcategory=None, confidence_score=0.5),\n",
       " CategorizedEntity(text=um, category=Quantity, subcategory=Currency, confidence_score=0.8),\n",
       " CategorizedEntity(text=pai, category=PersonType, subcategory=None, confidence_score=0.84)]"
      ]
     },
     "execution_count": 14,
     "metadata": {},
     "output_type": "execute_result"
    }
   ],
   "source": [
    "# Setment Analysis"
   ]
  },
  {
   "cell_type": "markdown",
   "metadata": {
    "pycharm": {
     "name": "#%% md\n"
    }
   },
   "source": [
    "# Setment Analysis"
   ]
  },
  {
   "cell_type": "code",
   "execution_count": 6,
   "metadata": {
    "collapsed": false,
    "jupyter": {
     "outputs_hidden": false
    },
    "pycharm": {
     "name": "#%%\n"
    }
   },
   "outputs": [
    {
     "name": "stdout",
     "output_type": "stream",
     "text": [
      "{'positive': 0.74, 'neutral': 0.24, 'negative': 0.02}\n",
      "{'positive': 0.07, 'neutral': 0.12, 'negative': 0.81}\n"
     ]
    }
   ],
   "source": [
    "sentments = azclient.analyze_sentiment(docs)\n",
    "for sentment in sentments:\n",
    "    print(sentment.confidence_scores)"
   ]
  },
  {
   "cell_type": "markdown",
   "metadata": {},
   "source": [
    "# Keywords"
   ]
  },
  {
   "cell_type": "code",
   "execution_count": 7,
   "metadata": {
    "collapsed": false,
    "jupyter": {
     "outputs_hidden": false
    },
    "pycharm": {
     "name": "#%%\n"
    }
   },
   "outputs": [],
   "source": [
    "result = azclient.extract_key_phrases(docs)"
   ]
  },
  {
   "cell_type": "code",
   "execution_count": 8,
   "metadata": {
    "collapsed": false,
    "jupyter": {
     "outputs_hidden": false
    },
    "pycharm": {
     "name": "#%%\n"
    }
   },
   "outputs": [
    {
     "data": {
      "text/plain": [
       "['o que se passara',\n",
       " 'o seu rosto até',\n",
       " 'que não',\n",
       " 'O quarto exalava um vago odor',\n",
       " 'Ireneo disse',\n",
       " 'creio lembrar',\n",
       " 'telegrama e',\n",
       " 'voz',\n",
       " 'aurora',\n",
       " 'história']"
      ]
     },
     "execution_count": 8,
     "metadata": {},
     "output_type": "execute_result"
    }
   ],
   "source": [
    "result[1].key_phrases\n"
   ]
  }
 ],
 "metadata": {
  "kernelspec": {
   "display_name": "Python 3",
   "language": "python",
   "name": "python3"
  },
  "language_info": {
   "codemirror_mode": {
    "name": "ipython",
    "version": 3
   },
   "file_extension": ".py",
   "mimetype": "text/x-python",
   "name": "python",
   "nbconvert_exporter": "python",
   "pygments_lexer": "ipython3",
   "version": "3.7.4"
  }
 },
 "nbformat": 4,
 "nbformat_minor": 4
}